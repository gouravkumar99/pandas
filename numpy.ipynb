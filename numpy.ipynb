{
 "cells": [
  {
   "cell_type": "markdown",
   "id": "fec45a39",
   "metadata": {},
   "source": [
    "# Numpy Array"
   ]
  },
  {
   "cell_type": "code",
   "execution_count": 4,
   "id": "02ac1c1a",
   "metadata": {},
   "outputs": [],
   "source": [
    "import numpy as np"
   ]
  },
  {
   "cell_type": "code",
   "execution_count": 5,
   "id": "b56f2f4f",
   "metadata": {},
   "outputs": [
    {
     "data": {
      "text/plain": [
       "array([ 5,  9, 13])"
      ]
     },
     "execution_count": 5,
     "metadata": {},
     "output_type": "execute_result"
    }
   ],
   "source": [
    "np.array([5,9,13])"
   ]
  },
  {
   "cell_type": "code",
   "execution_count": 6,
   "id": "fbd553f9",
   "metadata": {},
   "outputs": [
    {
     "data": {
      "text/plain": [
       "list"
      ]
     },
     "execution_count": 6,
     "metadata": {},
     "output_type": "execute_result"
    }
   ],
   "source": [
    "type([5,9,13])"
   ]
  },
  {
   "cell_type": "code",
   "execution_count": 7,
   "id": "2e4afc4c",
   "metadata": {},
   "outputs": [
    {
     "data": {
      "text/plain": [
       "array([1, 2])"
      ]
     },
     "execution_count": 7,
     "metadata": {},
     "output_type": "execute_result"
    }
   ],
   "source": [
    "a = [1,2]\n",
    "\n",
    "np.array(a)"
   ]
  },
  {
   "cell_type": "code",
   "execution_count": 8,
   "id": "adf46e66",
   "metadata": {},
   "outputs": [
    {
     "data": {
      "text/plain": [
       "array([[1, 2, 3],\n",
       "       [4, 5, 6],\n",
       "       [7, 8, 9]])"
      ]
     },
     "execution_count": 8,
     "metadata": {},
     "output_type": "execute_result"
    }
   ],
   "source": [
    "a = np.array([[1,2,3],[4,5,6],[7,8,9]])\n",
    "a"
   ]
  },
  {
   "cell_type": "code",
   "execution_count": 9,
   "id": "e88c7b8e",
   "metadata": {},
   "outputs": [
    {
     "data": {
      "text/plain": [
       "(3, 3)"
      ]
     },
     "execution_count": 9,
     "metadata": {},
     "output_type": "execute_result"
    }
   ],
   "source": [
    "a.shape"
   ]
  },
  {
   "cell_type": "code",
   "execution_count": 10,
   "id": "637d6157",
   "metadata": {},
   "outputs": [
    {
     "data": {
      "text/plain": [
       "2"
      ]
     },
     "execution_count": 10,
     "metadata": {},
     "output_type": "execute_result"
    }
   ],
   "source": [
    "a.ndim"
   ]
  },
  {
   "cell_type": "code",
   "execution_count": 11,
   "id": "28ff6ace",
   "metadata": {},
   "outputs": [
    {
     "data": {
      "text/plain": [
       "[1, 3, 5, 7, 9]"
      ]
     },
     "execution_count": 11,
     "metadata": {},
     "output_type": "execute_result"
    }
   ],
   "source": [
    "lst = list(range(1,10,2))\n",
    "lst"
   ]
  },
  {
   "cell_type": "code",
   "execution_count": 12,
   "id": "a3606806",
   "metadata": {},
   "outputs": [
    {
     "ename": "SyntaxError",
     "evalue": "invalid syntax (<ipython-input-12-fcf2579ab4f5>, line 1)",
     "output_type": "error",
     "traceback": [
      "\u001b[1;36m  File \u001b[1;32m\"<ipython-input-12-fcf2579ab4f5>\"\u001b[1;36m, line \u001b[1;32m1\u001b[0m\n\u001b[1;33m    lst = list(range(1,10..5,2.5))\u001b[0m\n\u001b[1;37m                          ^\u001b[0m\n\u001b[1;31mSyntaxError\u001b[0m\u001b[1;31m:\u001b[0m invalid syntax\n"
     ]
    }
   ],
   "source": [
    "lst = list(range(1,10..5,2.5))\n",
    "lst"
   ]
  },
  {
   "cell_type": "code",
   "execution_count": 13,
   "id": "045f0641",
   "metadata": {
    "scrolled": true
   },
   "outputs": [],
   "source": [
    "#use arange"
   ]
  },
  {
   "cell_type": "code",
   "execution_count": 14,
   "id": "1b075886",
   "metadata": {},
   "outputs": [
    {
     "data": {
      "text/plain": [
       "array([1. , 3.5, 6. , 8.5])"
      ]
     },
     "execution_count": 14,
     "metadata": {},
     "output_type": "execute_result"
    }
   ],
   "source": [
    "lst = np.arange(1,10.5,2.5)\n",
    "lst"
   ]
  },
  {
   "cell_type": "markdown",
   "id": "9ec4d181",
   "metadata": {},
   "source": [
    "# linspace"
   ]
  },
  {
   "cell_type": "code",
   "execution_count": 15,
   "id": "4eec1af3",
   "metadata": {},
   "outputs": [
    {
     "data": {
      "text/plain": [
       "array([10. , 17.5, 25. , 32.5, 40. ])"
      ]
     },
     "execution_count": 15,
     "metadata": {},
     "output_type": "execute_result"
    }
   ],
   "source": [
    "#linspace  -  difference of number beetween range\n",
    "lst = np.linspace(10,40,5,)  # difference 7.5\n",
    "lst"
   ]
  },
  {
   "cell_type": "code",
   "execution_count": 16,
   "id": "59068382",
   "metadata": {},
   "outputs": [
    {
     "data": {
      "text/plain": [
       "(array([10., 20., 30., 40.]), 10.0)"
      ]
     },
     "execution_count": 16,
     "metadata": {},
     "output_type": "execute_result"
    }
   ],
   "source": [
    "lst = np.linspace(10,40,4,retstep=True) # difference 10\n",
    "lst"
   ]
  },
  {
   "cell_type": "code",
   "execution_count": null,
   "id": "bb51d172",
   "metadata": {},
   "outputs": [],
   "source": []
  },
  {
   "cell_type": "code",
   "execution_count": null,
   "id": "b175b625",
   "metadata": {},
   "outputs": [],
   "source": []
  },
  {
   "cell_type": "markdown",
   "id": "567ef34a",
   "metadata": {},
   "source": [
    "lst = np.arange(1,10.5,2.5)\n",
    "lst\n",
    "\n",
    "# Matrix creation"
   ]
  },
  {
   "cell_type": "code",
   "execution_count": 17,
   "id": "8ca3ba24",
   "metadata": {},
   "outputs": [
    {
     "name": "stdout",
     "output_type": "stream",
     "text": [
      "[0. 0. 0. 0. 0.]\n"
     ]
    }
   ],
   "source": [
    "print(np.zeros(5))"
   ]
  },
  {
   "cell_type": "code",
   "execution_count": 18,
   "id": "e66140c9",
   "metadata": {},
   "outputs": [
    {
     "name": "stdout",
     "output_type": "stream",
     "text": [
      "[[0. 0. 0. 0. 0.]\n",
      " [0. 0. 0. 0. 0.]\n",
      " [0. 0. 0. 0. 0.]\n",
      " [0. 0. 0. 0. 0.]\n",
      " [0. 0. 0. 0. 0.]]\n"
     ]
    }
   ],
   "source": [
    "print(np.zeros((5,5)))"
   ]
  },
  {
   "cell_type": "code",
   "execution_count": 19,
   "id": "de0b2682",
   "metadata": {},
   "outputs": [
    {
     "name": "stdout",
     "output_type": "stream",
     "text": [
      "[[2. 2. 2. 2. 2.]\n",
      " [2. 2. 2. 2. 2.]\n",
      " [2. 2. 2. 2. 2.]\n",
      " [2. 2. 2. 2. 2.]]\n"
     ]
    }
   ],
   "source": [
    "print(2*np.ones((4,5)))"
   ]
  },
  {
   "cell_type": "code",
   "execution_count": 20,
   "id": "69d5c8c4",
   "metadata": {},
   "outputs": [
    {
     "data": {
      "text/plain": [
       "array([[1., 0., 0., 0., 0.],\n",
       "       [0., 1., 0., 0., 0.],\n",
       "       [0., 0., 1., 0., 0.],\n",
       "       [0., 0., 0., 1., 0.],\n",
       "       [0., 0., 0., 0., 1.]])"
      ]
     },
     "execution_count": 20,
     "metadata": {},
     "output_type": "execute_result"
    }
   ],
   "source": [
    "np.eye(5)"
   ]
  },
  {
   "cell_type": "code",
   "execution_count": 21,
   "id": "395aff9b",
   "metadata": {},
   "outputs": [
    {
     "data": {
      "text/plain": [
       "array([2.  , 2.25, 2.5 , 2.75])"
      ]
     },
     "execution_count": 21,
     "metadata": {},
     "output_type": "execute_result"
    }
   ],
   "source": [
    "np.linspace(2,3,4,endpoint=False)"
   ]
  },
  {
   "cell_type": "code",
   "execution_count": 22,
   "id": "802f66c3",
   "metadata": {},
   "outputs": [
    {
     "data": {
      "text/plain": [
       "array([2.        , 2.33333333, 2.66666667, 3.        ])"
      ]
     },
     "execution_count": 22,
     "metadata": {},
     "output_type": "execute_result"
    }
   ],
   "source": [
    "np.linspace(2,3,4,endpoint=True)"
   ]
  },
  {
   "cell_type": "code",
   "execution_count": 23,
   "id": "c2eb8eb2",
   "metadata": {},
   "outputs": [
    {
     "data": {
      "text/plain": [
       "(array([2.        , 2.33333333, 2.66666667, 3.        ]), 0.3333333333333333)"
      ]
     },
     "execution_count": 23,
     "metadata": {},
     "output_type": "execute_result"
    }
   ],
   "source": [
    "np.linspace(2,3,4,retstep=True)"
   ]
  },
  {
   "cell_type": "code",
   "execution_count": 24,
   "id": "fd9f8eb3",
   "metadata": {},
   "outputs": [
    {
     "data": {
      "text/plain": [
       "array([[ 0,  1,  2,  3,  4],\n",
       "       [ 5,  6,  7,  8,  9],\n",
       "       [10, 11, 12, 13, 14],\n",
       "       [15, 16, 17, 18, 19]])"
      ]
     },
     "execution_count": 24,
     "metadata": {},
     "output_type": "execute_result"
    }
   ],
   "source": [
    "x = np.arange(20).reshape(4,5) # reshape value multiplies then = to arange value \n",
    "x"
   ]
  },
  {
   "cell_type": "markdown",
   "id": "89fd5215",
   "metadata": {},
   "source": [
    "# Random Number generation"
   ]
  },
  {
   "cell_type": "code",
   "execution_count": 25,
   "id": "a5268404",
   "metadata": {},
   "outputs": [],
   "source": [
    "#rand -genreate for random numbers\n",
    "#randn - use for negatie numbers\n",
    "#randint - use for genreate int number "
   ]
  },
  {
   "cell_type": "code",
   "execution_count": 26,
   "id": "e609bdde",
   "metadata": {},
   "outputs": [
    {
     "name": "stdout",
     "output_type": "stream",
     "text": [
      "[[0.71762866 0.37913442 0.16568857 0.7737457  0.68158153 0.49139005]\n",
      " [0.48290928 0.14098839 0.57098042 0.44233928 0.56943896 0.35036504]\n",
      " [0.77358001 0.9268498  0.6548173  0.90259833 0.48249924 0.86722293]\n",
      " [0.5050844  0.27471926 0.18078588 0.27492185 0.524853   0.63643093]\n",
      " [0.51430432 0.73194625 0.55700152 0.66022189 0.88003908 0.892204  ]]\n"
     ]
    }
   ],
   "source": [
    "print(np.random.rand(5,6))"
   ]
  },
  {
   "cell_type": "code",
   "execution_count": 27,
   "id": "a7a3d241",
   "metadata": {},
   "outputs": [
    {
     "name": "stdout",
     "output_type": "stream",
     "text": [
      "[[-5.97459690e-01  3.21592904e-01  1.07659644e+00  1.24262818e+00\n",
      "  -1.90718446e-01 -1.59032817e+00]\n",
      " [ 9.91582297e-03  1.16703222e+00 -1.52872198e+00  2.14902499e+00\n",
      "  -1.70253688e-01 -5.20781277e-01]\n",
      " [ 6.98870483e-01 -1.20814101e-03  7.36918422e-02 -1.41496765e+00\n",
      "  -1.25588943e+00  8.58862518e-01]\n",
      " [-1.69100622e+00 -1.43329260e+00  1.84855873e-01 -1.73406290e+00\n",
      "   1.51685010e+00 -1.11214090e+00]\n",
      " [ 8.71070073e-01 -1.89765796e+00  9.24418812e-01 -5.91573837e-02\n",
      "   1.80560453e+00 -5.32897933e-01]]\n"
     ]
    }
   ],
   "source": [
    "print(np.random.randn(5,6))"
   ]
  },
  {
   "cell_type": "code",
   "execution_count": 28,
   "id": "41a8795b",
   "metadata": {},
   "outputs": [
    {
     "name": "stdout",
     "output_type": "stream",
     "text": [
      "[7 6 3 4 9 1 2 4 4 7]\n"
     ]
    }
   ],
   "source": [
    "print(np.random.randint(1,10,10))"
   ]
  },
  {
   "cell_type": "code",
   "execution_count": 29,
   "id": "6768ab1a",
   "metadata": {},
   "outputs": [
    {
     "name": "stdout",
     "output_type": "stream",
     "text": [
      "[[2 7 5 2 4]\n",
      " [7 7 8 7 9]]\n"
     ]
    }
   ],
   "source": [
    "print(np.random.randint(1,10,(2,5)))"
   ]
  },
  {
   "cell_type": "code",
   "execution_count": 30,
   "id": "69e51ab7",
   "metadata": {},
   "outputs": [
    {
     "name": "stdout",
     "output_type": "stream",
     "text": [
      "[[1 7 9 3 8 4]\n",
      " [9 5 2 8 5 2]\n",
      " [4 7 6 1 2 2]\n",
      " [6 1 1 8 7 2]\n",
      " [9 8 4 5 8 3]]\n"
     ]
    }
   ],
   "source": [
    "print(np.random.randint(1,10,(5,6)))# np.random.randint( number between (row,columns))"
   ]
  },
  {
   "cell_type": "markdown",
   "id": "15e4bac1",
   "metadata": {},
   "source": [
    "# Reshaping"
   ]
  },
  {
   "cell_type": "code",
   "execution_count": 31,
   "id": "903c54df",
   "metadata": {},
   "outputs": [],
   "source": [
    "import numpy as np"
   ]
  },
  {
   "cell_type": "code",
   "execution_count": 32,
   "id": "ad09c73b",
   "metadata": {},
   "outputs": [],
   "source": [
    "from numpy.random import randint as ri"
   ]
  },
  {
   "cell_type": "code",
   "execution_count": 33,
   "id": "e75a1622",
   "metadata": {},
   "outputs": [
    {
     "data": {
      "text/plain": [
       "array([[38, 18, 66, 14, 40],\n",
       "       [88, 29, 15, 37, 85],\n",
       "       [29, 78, 66, 50, 50],\n",
       "       [ 2, 58, 56, 16, 73],\n",
       "       [45, 92, 28, 86, 96]])"
      ]
     },
     "execution_count": 33,
     "metadata": {},
     "output_type": "execute_result"
    }
   ],
   "source": [
    "ri(1,99,(5,5))"
   ]
  },
  {
   "cell_type": "code",
   "execution_count": 34,
   "id": "76e8e7ab",
   "metadata": {},
   "outputs": [],
   "source": [
    "def random(val1,val2,val3):\n",
    "    p = np.random.randint(val1,val2,val3)\n",
    "    print(p)"
   ]
  },
  {
   "cell_type": "code",
   "execution_count": 35,
   "id": "4914fcdf",
   "metadata": {},
   "outputs": [
    {
     "name": "stdout",
     "output_type": "stream",
     "text": [
      "[[[43 49 91 65  6]\n",
      "  [ 5 55 78 39 18]\n",
      "  [79 59 20 62 81]]\n",
      "\n",
      " [[65  7 36 41 60]\n",
      "  [30 22 33 44 52]\n",
      "  [31 88  9 57 36]]]\n"
     ]
    }
   ],
   "source": [
    "p = random(1,99,(2,3,5))\n",
    "p"
   ]
  },
  {
   "cell_type": "code",
   "execution_count": 36,
   "id": "e90f8de1",
   "metadata": {},
   "outputs": [],
   "source": [
    "a = ri(1,99,30)"
   ]
  },
  {
   "cell_type": "code",
   "execution_count": 37,
   "id": "f9ac4840",
   "metadata": {},
   "outputs": [
    {
     "data": {
      "text/plain": [
       "array([[[ 5, 16, 94, 58, 95],\n",
       "        [73, 78, 26, 77, 92],\n",
       "        [71, 35, 82, 23, 18]],\n",
       "\n",
       "       [[ 9, 73, 91, 51, 92],\n",
       "        [ 5, 46, 54, 19, 14],\n",
       "        [49, 86, 29, 54, 84]]])"
      ]
     },
     "execution_count": 37,
     "metadata": {},
     "output_type": "execute_result"
    }
   ],
   "source": [
    "b = a.reshape(2,3,5)\n",
    "b"
   ]
  },
  {
   "cell_type": "code",
   "execution_count": 38,
   "id": "8f28f502",
   "metadata": {},
   "outputs": [],
   "source": [
    "c = ri(1,99,(5,6))"
   ]
  },
  {
   "cell_type": "code",
   "execution_count": 39,
   "id": "400fa8a5",
   "metadata": {},
   "outputs": [
    {
     "name": "stdout",
     "output_type": "stream",
     "text": [
      "print a look like this \n",
      "[ 5 16 94 58 95 73 78 26 77 92 71 35 82 23 18  9 73 91 51 92  5 46 54 19\n",
      " 14 49 86 29 54 84]\n",
      "\n",
      "print b look like this \n",
      " \n",
      "[[[ 5 16 94 58 95]\n",
      "  [73 78 26 77 92]\n",
      "  [71 35 82 23 18]]\n",
      "\n",
      " [[ 9 73 91 51 92]\n",
      "  [ 5 46 54 19 14]\n",
      "  [49 86 29 54 84]]]\n",
      "\n",
      "print c look like this \n",
      " \n",
      "[[69  2 86 34  9 57]\n",
      " [62 71 38 88 77  3]\n",
      " [73 28 90 66 59 89]\n",
      " [82 37 81 64 63 70]\n",
      " [83 39 95  3 52 84]]\n"
     ]
    }
   ],
   "source": [
    "print(f'print a look like this \\n{a}')\n",
    "print(f'\\nprint b look like this \\n \\n{b}')\n",
    "print(f'\\nprint c look like this \\n \\n{c}')"
   ]
  },
  {
   "cell_type": "code",
   "execution_count": 40,
   "id": "a170ad74",
   "metadata": {},
   "outputs": [
    {
     "name": "stdout",
     "output_type": "stream",
     "text": [
      "[39  3 38  8 24 20 30 31 24 31]\n"
     ]
    }
   ],
   "source": [
    "a= ri(1,50,10)\n",
    "print(a)"
   ]
  },
  {
   "cell_type": "code",
   "execution_count": 41,
   "id": "305f51df",
   "metadata": {},
   "outputs": [
    {
     "name": "stdout",
     "output_type": "stream",
     "text": [
      "[ 3  8 20 24 24 30 31 31 38 39]\n",
      "39\n"
     ]
    }
   ],
   "source": [
    "print(np.sort(a,kind ='quicksort'))\n",
    "print(a.max())"
   ]
  },
  {
   "cell_type": "code",
   "execution_count": 42,
   "id": "acd67367",
   "metadata": {},
   "outputs": [
    {
     "name": "stdout",
     "output_type": "stream",
     "text": [
      "[[[6 7 7]\n",
      "  [9 8 5]\n",
      "  [4 3 8]]\n",
      "\n",
      " [[7 9 8]\n",
      "  [3 3 1]\n",
      "  [8 5 2]]]\n"
     ]
    }
   ],
   "source": [
    "\n",
    "a= ri(1,10,(2,3,3))\n",
    "print(a)"
   ]
  },
  {
   "cell_type": "code",
   "execution_count": 43,
   "id": "e6a9a1c9",
   "metadata": {},
   "outputs": [
    {
     "name": "stdout",
     "output_type": "stream",
     "text": [
      "[[[6 7 7]\n",
      "  [5 8 9]\n",
      "  [3 4 8]]\n",
      "\n",
      " [[7 8 9]\n",
      "  [1 3 3]\n",
      "  [2 5 8]]]\n"
     ]
    }
   ],
   "source": [
    "print(np.sort(a,kind='quicksort'))"
   ]
  },
  {
   "cell_type": "markdown",
   "id": "54ee261e",
   "metadata": {},
   "source": [
    "# indexing and slicing"
   ]
  },
  {
   "cell_type": "code",
   "execution_count": 44,
   "id": "8f87a219",
   "metadata": {},
   "outputs": [
    {
     "name": "stdout",
     "output_type": "stream",
     "text": [
      "[17 10 23 31 31 12 29 33 19 38 26 35 29 22 27 33 27 12 48 16]\n",
      "[10 23 31 31]\n"
     ]
    }
   ],
   "source": [
    "a = ri(10,50,20)\n",
    "print(a)\n",
    "print(a[1:5])\n"
   ]
  },
  {
   "cell_type": "code",
   "execution_count": 45,
   "id": "05b96869",
   "metadata": {},
   "outputs": [
    {
     "name": "stdout",
     "output_type": "stream",
     "text": [
      "[17 10 23 31 31]\n"
     ]
    }
   ],
   "source": [
    "print(a[:5])\n"
   ]
  },
  {
   "cell_type": "code",
   "execution_count": 46,
   "id": "ab0a6ef2",
   "metadata": {},
   "outputs": [
    {
     "name": "stdout",
     "output_type": "stream",
     "text": [
      "[10 31 33 26 22]\n"
     ]
    }
   ],
   "source": [
    "print(a[1:15:3])\n"
   ]
  },
  {
   "cell_type": "code",
   "execution_count": 47,
   "id": "eba26527",
   "metadata": {},
   "outputs": [
    {
     "name": "stdout",
     "output_type": "stream",
     "text": [
      "[17 23 31 29 19 26 29 27 27 48]\n"
     ]
    }
   ],
   "source": [
    "print(a[::2])"
   ]
  },
  {
   "cell_type": "code",
   "execution_count": 48,
   "id": "6fb28702",
   "metadata": {},
   "outputs": [
    {
     "name": "stdout",
     "output_type": "stream",
     "text": [
      "[26 19 29 31 23 17]\n"
     ]
    }
   ],
   "source": [
    "print(a[10::-2])"
   ]
  },
  {
   "cell_type": "code",
   "execution_count": 49,
   "id": "c7a9e6dd",
   "metadata": {},
   "outputs": [
    {
     "name": "stdout",
     "output_type": "stream",
     "text": [
      "[[45 11 35]\n",
      " [28 17 24]\n",
      " [47 43 29]]\n"
     ]
    }
   ],
   "source": [
    "b = ri(10,50,(3,3))\n",
    "print(b)"
   ]
  },
  {
   "cell_type": "code",
   "execution_count": 50,
   "id": "e9d60610",
   "metadata": {},
   "outputs": [
    {
     "name": "stdout",
     "output_type": "stream",
     "text": [
      "24\n"
     ]
    }
   ],
   "source": [
    "print(b[1][2]) # ext one data to array"
   ]
  },
  {
   "cell_type": "code",
   "execution_count": 51,
   "id": "66a8fd58",
   "metadata": {},
   "outputs": [
    {
     "name": "stdout",
     "output_type": "stream",
     "text": [
      "[47 43 29]\n"
     ]
    }
   ],
   "source": [
    "print(b[2]) #ext.. row data"
   ]
  },
  {
   "cell_type": "code",
   "execution_count": 52,
   "id": "780c8749",
   "metadata": {},
   "outputs": [
    {
     "name": "stdout",
     "output_type": "stream",
     "text": [
      "[[24]\n",
      " [29]]\n"
     ]
    }
   ],
   "source": [
    "print(b[1:,2:])"
   ]
  },
  {
   "cell_type": "code",
   "execution_count": 53,
   "id": "a4f7e6ff",
   "metadata": {},
   "outputs": [
    {
     "name": "stdout",
     "output_type": "stream",
     "text": [
      "[[28 17 24]\n",
      " [47 43 29]]\n"
     ]
    }
   ],
   "source": [
    "print(b[1:,:])"
   ]
  },
  {
   "cell_type": "code",
   "execution_count": 54,
   "id": "7d37fe25",
   "metadata": {},
   "outputs": [
    {
     "name": "stdout",
     "output_type": "stream",
     "text": [
      "[[17]]\n"
     ]
    }
   ],
   "source": [
    "print(b[1:2,1:2])"
   ]
  },
  {
   "cell_type": "markdown",
   "id": "5da1b208",
   "metadata": {},
   "source": [
    "# Subseting"
   ]
  },
  {
   "cell_type": "code",
   "execution_count": 55,
   "id": "f5daa086",
   "metadata": {},
   "outputs": [
    {
     "name": "stdout",
     "output_type": "stream",
     "text": [
      "[[75 17 24 25 57]\n",
      " [16 13 66 87 62]\n",
      " [95 78 95 69 97]]\n"
     ]
    }
   ],
   "source": [
    "mat = np.array(ri(10,100,15)).reshape(3,5)\n",
    "\n",
    "print(mat)"
   ]
  },
  {
   "cell_type": "code",
   "execution_count": 56,
   "id": "4deaeb03",
   "metadata": {},
   "outputs": [
    {
     "name": "stdout",
     "output_type": "stream",
     "text": [
      "[75 57 66 87 62 95 78 95 69 97]\n"
     ]
    }
   ],
   "source": [
    "print(mat[mat>50])"
   ]
  },
  {
   "cell_type": "code",
   "execution_count": 57,
   "id": "e4862e33",
   "metadata": {},
   "outputs": [],
   "source": [
    "p = np.arange(1,41).reshape(5,8)"
   ]
  },
  {
   "cell_type": "code",
   "execution_count": 58,
   "id": "778f1439",
   "metadata": {},
   "outputs": [
    {
     "name": "stdout",
     "output_type": "stream",
     "text": [
      "[[ 1  2  3  4  5  6  7  8]\n",
      " [ 9 10 11 12 13 14 15 16]\n",
      " [17 18 19 20 21 22 23 24]\n",
      " [25 26 27 28 29 30 31 32]\n",
      " [33 34 35 36 37 38 39 40]]\n"
     ]
    }
   ],
   "source": [
    "print(p)"
   ]
  },
  {
   "cell_type": "code",
   "execution_count": 59,
   "id": "372a1bbb",
   "metadata": {},
   "outputs": [
    {
     "name": "stdout",
     "output_type": "stream",
     "text": [
      "[[1000    2    3    4    5    6    7    8]\n",
      " [   9   10   11   12   13   14   15   16]\n",
      " [  17   18   19   20   21   22   23   24]\n",
      " [  25   26   27   28   29   30   31   32]\n",
      " [  33   34   35   36   37   38   39   40]]\n"
     ]
    }
   ],
   "source": [
    "p[0,0] = 1000\n",
    "print(p)"
   ]
  },
  {
   "cell_type": "markdown",
   "id": "d020b056",
   "metadata": {},
   "source": [
    "# ____\n"
   ]
  },
  {
   "cell_type": "code",
   "execution_count": 61,
   "id": "4315932b",
   "metadata": {},
   "outputs": [
    {
     "name": "stdout",
     "output_type": "stream",
     "text": [
      "[[  0. 200.   0.]\n",
      " [  0.   0.   0.]\n",
      " [  0.   0.   0.]]\n"
     ]
    }
   ],
   "source": [
    "a = np.zeros((3,3))\n",
    "a[0,1] = 200\n",
    "print(a)"
   ]
  },
  {
   "cell_type": "code",
   "execution_count": 62,
   "id": "45c478ef",
   "metadata": {},
   "outputs": [
    {
     "data": {
      "text/plain": [
       "array([[1, 0, 2]])"
      ]
     },
     "execution_count": 62,
     "metadata": {},
     "output_type": "execute_result"
    }
   ],
   "source": [
    "b1 = np.array([[1,0,2]])\n",
    "b1"
   ]
  },
  {
   "cell_type": "code",
   "execution_count": 63,
   "id": "d40641ba",
   "metadata": {},
   "outputs": [
    {
     "name": "stdout",
     "output_type": "stream",
     "text": [
      "[[  1. 200.   2.]\n",
      " [  1.   0.   2.]\n",
      " [  1.   0.   2.]]\n"
     ]
    }
   ],
   "source": [
    "new = a +  b1\n",
    "print(new)"
   ]
  },
  {
   "cell_type": "code",
   "execution_count": null,
   "id": "586885b7",
   "metadata": {},
   "outputs": [],
   "source": []
  },
  {
   "cell_type": "markdown",
   "id": "28f53f21",
   "metadata": {},
   "source": [
    "# Array Math"
   ]
  },
  {
   "cell_type": "code",
   "execution_count": 64,
   "id": "2a82a783",
   "metadata": {},
   "outputs": [
    {
     "name": "stdout",
     "output_type": "stream",
     "text": [
      "[[4 9 2]\n",
      " [8 6 2]\n",
      " [8 8 6]]\n",
      "\n",
      "[[8 8 3]\n",
      " [5 8 8]\n",
      " [1 6 4]]\n"
     ]
    }
   ],
   "source": [
    "mat1 = np.array(ri(1,10,9)).reshape(3,3)\n",
    "mat2 = np.array(ri(1,10,9)).reshape(3,3)\n",
    "\n",
    "print(mat1)\n",
    "print(f'\\n{mat2}')"
   ]
  },
  {
   "cell_type": "code",
   "execution_count": 65,
   "id": "0548122e",
   "metadata": {},
   "outputs": [
    {
     "data": {
      "text/plain": [
       "array([[2.        , 3.        , 1.41421356],\n",
       "       [2.82842712, 2.44948974, 1.41421356],\n",
       "       [2.82842712, 2.82842712, 2.44948974]])"
      ]
     },
     "execution_count": 65,
     "metadata": {},
     "output_type": "execute_result"
    }
   ],
   "source": [
    "np.sqrt(mat1)"
   ]
  },
  {
   "cell_type": "code",
   "execution_count": 66,
   "id": "9093368f",
   "metadata": {},
   "outputs": [
    {
     "data": {
      "text/plain": [
       "array([[5.45981500e+01, 8.10308393e+03, 7.38905610e+00],\n",
       "       [2.98095799e+03, 4.03428793e+02, 7.38905610e+00],\n",
       "       [2.98095799e+03, 2.98095799e+03, 4.03428793e+02]])"
      ]
     },
     "execution_count": 66,
     "metadata": {},
     "output_type": "execute_result"
    }
   ],
   "source": [
    "np.exp(mat1)"
   ]
  },
  {
   "cell_type": "code",
   "execution_count": 67,
   "id": "37116d6f",
   "metadata": {},
   "outputs": [
    {
     "data": {
      "text/plain": [
       "array([[1.38629436, 2.19722458, 0.69314718],\n",
       "       [2.07944154, 1.79175947, 0.69314718],\n",
       "       [2.07944154, 2.07944154, 1.79175947]])"
      ]
     },
     "execution_count": 67,
     "metadata": {},
     "output_type": "execute_result"
    }
   ],
   "source": [
    "np.log(mat1)"
   ]
  },
  {
   "cell_type": "code",
   "execution_count": 66,
   "id": "c9fa9fd3",
   "metadata": {},
   "outputs": [
    {
     "data": {
      "text/plain": [
       "1.724275869600789"
      ]
     },
     "execution_count": 66,
     "metadata": {},
     "output_type": "execute_result"
    }
   ],
   "source": [
    "np.log10(53)"
   ]
  },
  {
   "cell_type": "code",
   "execution_count": 67,
   "id": "669fdf2d",
   "metadata": {},
   "outputs": [
    {
     "data": {
      "text/plain": [
       "100"
      ]
     },
     "execution_count": 67,
     "metadata": {},
     "output_type": "execute_result"
    }
   ],
   "source": [
    "np.square(10)"
   ]
  },
  {
   "cell_type": "markdown",
   "id": "16b9d338",
   "metadata": {},
   "source": [
    "# Broadcasting"
   ]
  },
  {
   "cell_type": "code",
   "execution_count": 71,
   "id": "1d6f6275",
   "metadata": {},
   "outputs": [
    {
     "name": "stdout",
     "output_type": "stream",
     "text": [
      "[[0. 0. 0.]\n",
      " [0. 0. 0.]\n",
      " [0. 0. 0.]]\n"
     ]
    }
   ],
   "source": [
    "#add row\n",
    "start = np.zeros((3,3))\n",
    "print(start)"
   ]
  },
  {
   "cell_type": "code",
   "execution_count": 72,
   "id": "f62d3c41",
   "metadata": {},
   "outputs": [
    {
     "name": "stdout",
     "output_type": "stream",
     "text": [
      "[1 0 2]\n"
     ]
    }
   ],
   "source": [
    "add_row=np.array([1,0,2])\n",
    "print(add_row)"
   ]
  },
  {
   "cell_type": "code",
   "execution_count": 73,
   "id": "c3c6a948",
   "metadata": {},
   "outputs": [
    {
     "name": "stdout",
     "output_type": "stream",
     "text": [
      "[[1. 0. 2.]\n",
      " [1. 0. 2.]\n",
      " [1. 0. 2.]]\n"
     ]
    }
   ],
   "source": [
    "y =start+add_row\n",
    "print(y)"
   ]
  },
  {
   "cell_type": "code",
   "execution_count": 81,
   "id": "9499694b",
   "metadata": {},
   "outputs": [
    {
     "name": "stdout",
     "output_type": "stream",
     "text": [
      "[[0]\n",
      " [1]\n",
      " [2]\n",
      " [3]]\n"
     ]
    }
   ],
   "source": [
    "add_cols = np.array([[0,1,2,3]])\n",
    "add_cols =  add_cols.T\n",
    "print(add_cols)"
   ]
  },
  {
   "cell_type": "code",
   "execution_count": 83,
   "id": "a69b54e1",
   "metadata": {},
   "outputs": [
    {
     "name": "stdout",
     "output_type": "stream",
     "text": [
      "[[0. 0. 0.]\n",
      " [0. 0. 0.]\n",
      " [0. 0. 0.]]\n"
     ]
    }
   ],
   "source": [
    "print(start)"
   ]
  },
  {
   "cell_type": "code",
   "execution_count": 86,
   "id": "d9c585ae",
   "metadata": {},
   "outputs": [
    {
     "data": {
      "text/plain": [
       "array([[1],\n",
       "       [0],\n",
       "       [2]])"
      ]
     },
     "execution_count": 86,
     "metadata": {},
     "output_type": "execute_result"
    }
   ],
   "source": [
    "add_row=np.array([[1,0,2]])\n",
    "n = add_row.T\n",
    "n"
   ]
  },
  {
   "cell_type": "code",
   "execution_count": 87,
   "id": "ae34e3c1",
   "metadata": {},
   "outputs": [
    {
     "name": "stdout",
     "output_type": "stream",
     "text": [
      "[[1. 1. 1.]\n",
      " [0. 0. 0.]\n",
      " [2. 2. 2.]]\n"
     ]
    }
   ],
   "source": [
    "print(start+n)"
   ]
  },
  {
   "cell_type": "code",
   "execution_count": null,
   "id": "63667392",
   "metadata": {},
   "outputs": [],
   "source": []
  },
  {
   "cell_type": "code",
   "execution_count": null,
   "id": "34268e34",
   "metadata": {},
   "outputs": [],
   "source": []
  },
  {
   "cell_type": "code",
   "execution_count": null,
   "id": "427b3cad",
   "metadata": {},
   "outputs": [],
   "source": []
  },
  {
   "cell_type": "code",
   "execution_count": null,
   "id": "43a19a08",
   "metadata": {},
   "outputs": [],
   "source": []
  },
  {
   "cell_type": "code",
   "execution_count": null,
   "id": "b0ca46e5",
   "metadata": {},
   "outputs": [],
   "source": []
  },
  {
   "cell_type": "code",
   "execution_count": null,
   "id": "cb7b9db3",
   "metadata": {},
   "outputs": [],
   "source": []
  }
 ],
 "metadata": {
  "kernelspec": {
   "display_name": "Python 3",
   "language": "python",
   "name": "python3"
  },
  "language_info": {
   "codemirror_mode": {
    "name": "ipython",
    "version": 3
   },
   "file_extension": ".py",
   "mimetype": "text/x-python",
   "name": "python",
   "nbconvert_exporter": "python",
   "pygments_lexer": "ipython3",
   "version": "3.8.8"
  }
 },
 "nbformat": 4,
 "nbformat_minor": 5
}
